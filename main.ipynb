{
 "cells": [
  {
   "metadata": {},
   "cell_type": "markdown",
   "source": "# Imports",
   "id": "46a69df427edbf1"
  },
  {
   "cell_type": "code",
   "id": "initial_id",
   "metadata": {
    "collapsed": true,
    "ExecuteTime": {
     "end_time": "2025-02-04T10:22:21.068029Z",
     "start_time": "2025-02-04T10:22:17.461239Z"
    }
   },
   "source": [
    "import json\n",
    "import pandas as pd\n",
    "import numpy as np\n",
    "import matplotlib.pyplot as plt\n",
    "from sklearn.linear_model import LinearRegression\n",
    "from sklearn.preprocessing import PolynomialFeatures\n",
    "from sklearn.preprocessing import MinMaxScaler"
   ],
   "outputs": [],
   "execution_count": 1
  },
  {
   "metadata": {},
   "cell_type": "markdown",
   "source": "# Number of Candidates",
   "id": "db6a4279c4352738"
  },
  {
   "metadata": {
    "ExecuteTime": {
     "end_time": "2025-02-04T10:22:49.770283Z",
     "start_time": "2025-02-04T10:22:49.755302Z"
    }
   },
   "cell_type": "code",
   "source": "no_of_candidates = json.load(open(\"./Data/no_of_candidates.json\"))",
   "id": "4fbc84830ed8f73b",
   "outputs": [],
   "execution_count": 2
  },
  {
   "metadata": {},
   "cell_type": "markdown",
   "source": "# Library",
   "id": "454a5aa06a35c3c5"
  },
  {
   "metadata": {
    "ExecuteTime": {
     "end_time": "2025-02-04T10:23:22.406353Z",
     "start_time": "2025-02-04T10:23:22.386813Z"
    }
   },
   "cell_type": "code",
   "source": [
    "class BidirectionalPredictor:\n",
    "    def __init__(self, degree=10):\n",
    "        \"\"\"\n",
    "        Initialize predictors for both directions\n",
    "        \"\"\"\n",
    "        self.degree = degree\n",
    "        # Predictor for marks -> ranks\n",
    "        self.marks_to_ranks_model = self._create_model()\n",
    "        # Predictor for ranks -> marks\n",
    "        self.ranks_to_marks_model = self._create_model()\n",
    "\n",
    "    def _create_model(self):\n",
    "        \"\"\"Helper function to create a model with scaler\"\"\"\n",
    "        return {\n",
    "            'poly_features': PolynomialFeatures(degree=self.degree),\n",
    "            'model': LinearRegression(),\n",
    "            'scaler': MinMaxScaler()\n",
    "        }\n",
    "\n",
    "    def train(self, marks, ranks):\n",
    "        \"\"\"Train both directional models\"\"\"\n",
    "        # Train marks -> ranks model\n",
    "        self._train_single_direction(\n",
    "            self.marks_to_ranks_model,\n",
    "            np.array(marks).reshape(-1, 1),\n",
    "            np.array(ranks).reshape(-1, 1)\n",
    "        )\n",
    "\n",
    "        # Train ranks -> marks model\n",
    "        self._train_single_direction(\n",
    "            self.ranks_to_marks_model,\n",
    "            np.array(ranks).reshape(-1, 1),\n",
    "            np.array(marks).reshape(-1, 1)\n",
    "        )\n",
    "\n",
    "    def _train_single_direction(self, model_dict, X, y):\n",
    "        \"\"\"Helper function to train a single direction\"\"\"\n",
    "        X_scaled = model_dict['scaler'].fit_transform(X)\n",
    "        X_poly = model_dict['poly_features'].fit_transform(X_scaled)\n",
    "        model_dict['model'].fit(X_poly, y)\n",
    "\n",
    "    def predict_rank(self, marks):\n",
    "        \"\"\"Predict ranks given marks\"\"\"\n",
    "        return self._predict_single_direction(\n",
    "            self.marks_to_ranks_model,\n",
    "            np.array(marks).reshape(-1, 1)\n",
    "        )\n",
    "\n",
    "    def predict_marks(self, ranks):\n",
    "        \"\"\"Predict marks given ranks\"\"\"\n",
    "        return self._predict_single_direction(\n",
    "            self.ranks_to_marks_model,\n",
    "            np.array(ranks).reshape(-1, 1)\n",
    "        )\n",
    "\n",
    "    def _predict_single_direction(self, model_dict, X):\n",
    "        \"\"\"Helper function for prediction\"\"\"\n",
    "        assert 'scaler' in model_dict, \"Key 'scaler' not found in model_dict\"\n",
    "        assert 'poly_features' in model_dict, \"Key 'poly_features' not found in model_dict\"\n",
    "        assert 'model' in model_dict, \"Key 'model' not found in model_dict\"\n",
    "\n",
    "        X_scaled = model_dict['scaler'].transform(X)\n",
    "        X_poly = model_dict['poly_features'].transform(X_scaled)\n",
    "        predictions = model_dict['model'].predict(X_poly)\n",
    "        return np.round(predictions.flatten())\n",
    "\n",
    "    def plot_both_directions(self, marks, ranks):\n",
    "        \"\"\"Plot both prediction directions\"\"\"\n",
    "        fig, (ax1, ax2) = plt.subplots(1, 2, figsize=(15, 6))\n",
    "\n",
    "        # Plot marks -> ranks\n",
    "        ax1.scatter(marks, ranks, color='blue', label='Actual Data')\n",
    "        X_smooth = np.linspace(min(marks), max(marks), 300)\n",
    "        y_smooth = self.predict_rank(X_smooth)\n",
    "        ax1.plot(X_smooth, y_smooth, color='red', label='Prediction')\n",
    "        ax1.set_xlabel('Marks')\n",
    "        ax1.set_ylabel('Rank')\n",
    "        ax1.set_title('Marks → Rank Prediction')\n",
    "        ax1.legend()\n",
    "        ax1.grid(True)\n",
    "\n",
    "        # Plot ranks -> marks\n",
    "        ax2.scatter(ranks, marks, color='blue', label='Actual Data')\n",
    "        X_smooth = np.linspace(min(ranks), max(ranks), 300)\n",
    "        y_smooth = self.predict_marks(X_smooth)\n",
    "        ax2.plot(X_smooth, y_smooth, color='red', label='Prediction')\n",
    "        ax2.set_xlabel('Rank')\n",
    "        ax2.set_ylabel('Marks')\n",
    "        ax2.set_title('Rank → Marks Prediction')\n",
    "        ax2.legend()\n",
    "        ax2.grid(True)\n",
    "\n",
    "        plt.tight_layout()\n",
    "        plt.show()"
   ],
   "id": "c2402d4883a86a24",
   "outputs": [],
   "execution_count": 3
  },
  {
   "metadata": {
    "ExecuteTime": {
     "end_time": "2025-02-04T10:23:42.368748Z",
     "start_time": "2025-02-04T10:23:42.356952Z"
    }
   },
   "cell_type": "code",
   "source": [
    "class Marks_vs_Rank_Analyser:\n",
    "    def __init__(self, year):\n",
    "        self.year = year\n",
    "        marks_vs_rank = pd.read_csv(f\"./Data/{self.year}/{self.year}_Marks_vs_percentile.csv\", index_col=[0], header=[0])\n",
    "        marks_vs_rank.index.name = \"Percentile\"\n",
    "        exam_dates = marks_vs_rank.columns\n",
    "        marks_vs_rank[\"Ranks\"] = (100 - marks_vs_rank.index)/100*no_of_candidates[\"2024\"]\n",
    "        marks_vs_rank[\"Max\"] = marks_vs_rank[exam_dates].max(axis=1)\n",
    "        marks_vs_rank[\"Min\"] = marks_vs_rank[exam_dates].min(axis=1)\n",
    "        marks_vs_rank[\"Avg\"] = marks_vs_rank[exam_dates].mean(axis=1)\n",
    "        marks_vs_rank[\"Median\"] = marks_vs_rank[exam_dates].median(axis=1)\n",
    "\n",
    "        # Minimum\n",
    "        self.min_score_predictor = BidirectionalPredictor()\n",
    "        self.min_score_predictor.train(marks_vs_rank[\"Min\"].to_numpy(), marks_vs_rank[\"Ranks\"].to_numpy())\n",
    "\n",
    "        # Maximum\n",
    "        self.max_score_predictor = BidirectionalPredictor()\n",
    "        self.max_score_predictor.train(marks_vs_rank[\"Max\"].to_numpy(), marks_vs_rank[\"Ranks\"].to_numpy())\n",
    "\n",
    "        # Average\n",
    "        self.avg_score_predictor = BidirectionalPredictor()\n",
    "        self.avg_score_predictor.train(marks_vs_rank[\"Avg\"].to_numpy(), marks_vs_rank[\"Ranks\"].to_numpy())\n",
    "\n",
    "        # Median\n",
    "        self.median_score_predictor = BidirectionalPredictor()\n",
    "        self.median_score_predictor.train(marks_vs_rank[\"Median\"].to_numpy(), marks_vs_rank[\"Ranks\"].to_numpy())\n",
    "\n",
    "    def predict_marks(self, ranks):\n",
    "        \"\"\"Predict marks given ranks\"\"\"\n",
    "        return self.min_score_predictor.predict_marks(ranks), self.max_score_predictor.predict_marks(ranks), self.avg_score_predictor.predict_marks(ranks), self.median_score_predictor.predict_marks(ranks)\n",
    "\n",
    "    def predict_ranks(self, marks):\n",
    "        \"\"\"Predict marks given ranks\"\"\"\n",
    "        return self.min_score_predictor.predict_rank(marks), self.median_score_predictor.predict_rank(marks)"
   ],
   "id": "bbc7f17b9bdfa3fb",
   "outputs": [],
   "execution_count": 4
  },
  {
   "metadata": {},
   "cell_type": "markdown",
   "source": "# Analysers",
   "id": "f69df7170c0b3eef"
  },
  {
   "metadata": {
    "ExecuteTime": {
     "end_time": "2025-02-04T10:24:06.629439Z",
     "start_time": "2025-02-04T10:24:06.562082Z"
    }
   },
   "cell_type": "code",
   "source": [
    "mvr_2024 = Marks_vs_Rank_Analyser(2024)\n",
    "mvr_2023 = Marks_vs_Rank_Analyser(2023)"
   ],
   "id": "10ab23f8cb363ff9",
   "outputs": [],
   "execution_count": 5
  },
  {
   "metadata": {},
   "cell_type": "markdown",
   "source": "# Main",
   "id": "72a2d1924946644a"
  },
  {
   "metadata": {
    "ExecuteTime": {
     "end_time": "2025-02-04T10:24:30.284488Z",
     "start_time": "2025-02-04T10:24:30.261531Z"
    }
   },
   "cell_type": "code",
   "source": [
    "NITs_cutoff = pd.read_csv(\"./Data/2024/NITs_2024.csv\")\n",
    "Institutes = list(set(NITs_cutoff[\"Institute\"]))"
   ],
   "id": "46ff7f0f0c051e9e",
   "outputs": [],
   "execution_count": 6
  },
  {
   "metadata": {},
   "cell_type": "markdown",
   "source": "## Input",
   "id": "82c71a92d0cbfba9"
  },
  {
   "metadata": {
    "ExecuteTime": {
     "end_time": "2025-02-04T10:27:53.035557Z",
     "start_time": "2025-02-04T10:27:22.252180Z"
    }
   },
   "cell_type": "code",
   "source": [
    "for i in range(len(Institutes)):\n",
    "    print(f\"{i+1}. {Institutes[i]}\", flush=True)\n",
    "NIT_name = Institutes[int(input(\"Enter the NIT number: \")) - 1]\n",
    "\n",
    "Branches = list(set(NITs_cutoff[NITs_cutoff[\"Institute\"] == NIT_name][\"Academic Program Name\"]))\n",
    "for i in range(len(Branches)):\n",
    "    print(f\"{i+1}. {Branches[i]}\", flush=True)\n",
    "NIT_Branches = []\n",
    "enter_branch_number = input(\"Enter the NIT branch (Type 'n' or 'no' to stop): \")\n",
    "while i<len(Branches) and enter_branch_number.lower() not in [\"n\", \"no\"]:\n",
    "    NIT_Branches.append(Branches[int(enter_branch_number) - 1])\n",
    "    enter_branch_number = input(\"Enter the NIT branch: \")\n",
    "\n",
    "gender = input(\"Enter the gender(F/M): \")\n",
    "if gender == \"F\":\n",
    "    gender = \"Female-only (including Supernumerary)\"\n",
    "else:\n",
    "    gender = \"Gender-Neutral\"\n",
    "\n",
    "category = input(f\"Enter the category({\"/\".join(set(NITs_cutoff[\"Seat Type\"]))}): \")\n",
    "\n",
    "quota = input(\"Enter your quota(HS/OS): \")"
   ],
   "id": "39192ac64c62f73",
   "outputs": [
    {
     "name": "stdout",
     "output_type": "stream",
     "text": [
      "1. National Institute of Technology Delhi\n",
      "2. National Institute of Technology Sikkim\n",
      "3. Sardar Vallabhbhai National Institute of Technology, Surat\n",
      "4. National Institute of Technology, Mizoram\n",
      "5. National Institute of Technology, Tiruchirappalli\n",
      "6. National Institute of Technology Hamirpur\n",
      "7. National Institute of Technology, Manipur\n",
      "8. National Institute of Technology Puducherry\n",
      "9. National Institute of Technology Arunachal Pradesh\n",
      "10. Dr. B R Ambedkar National Institute of Technology, Jalandhar\n",
      "11. Motilal Nehru National Institute of Technology Allahabad\n",
      "12. National Institute of Technology, Jamshedpur\n",
      "13. Malaviya National Institute of Technology Jaipur\n",
      "14. National Institute of Technology, Uttarakhand\n",
      "15. National Institute of Technology, Srinagar\n",
      "16. National Institute of Technology Durgapur\n",
      "17. National Institute of Technology Goa\n",
      "18. National Institute of Technology, Silchar\n",
      "19. National Institute of Technology, Warangal\n",
      "20. National Institute of Technology Agartala\n",
      "21. Visvesvaraya National Institute of Technology, Nagpur\n",
      "22. National Institute of Technology Meghalaya\n",
      "23. National Institute of Technology, Rourkela\n",
      "24. National Institute of Technology Patna\n",
      "25. National Institute of Technology Raipur\n",
      "26. National Institute of Technology, Andhra Pradesh\n",
      "27. National Institute of Technology, Kurukshetra\n",
      "28. National Institute of Technology Calicut\n",
      "29. National Institute of Technology Karnataka, Surathkal\n",
      "30. Indian Institute of Engineering Science and Technology, Shibpur\n",
      "31. Maulana Azad National Institute of Technology Bhopal\n",
      "32. National Institute of Technology Nagaland\n",
      "1. Chemical Engineering (4 Years, Bachelor of Technology)\n",
      "2. Mining Engineering (4 Years, Bachelor of Technology)\n",
      "3. Computational and Data Science (4 Years, Bachelor of Technology)\n",
      "4. Civil Engineering (4 Years, Bachelor of Technology)\n",
      "5. Electrical and Electronics Engineering (4 Years, Bachelor of Technology)\n",
      "6. Mechanical Engineering (4 Years, Bachelor of Technology)\n",
      "7. Artificial Intelligence (4 Years, Bachelor of Technology)\n",
      "8. Computer Science and Engineering (4 Years, Bachelor of Technology)\n",
      "9. Metallurgical and Materials Engineering (4 Years, Bachelor of Technology)\n",
      "10. Information Technology (4 Years, Bachelor of Technology)\n",
      "11. Electronics and Communication Engineering (4 Years, Bachelor of Technology)\n"
     ]
    }
   ],
   "execution_count": 13
  },
  {
   "metadata": {
    "ExecuteTime": {
     "end_time": "2025-02-04T10:27:56.756102Z",
     "start_time": "2025-02-04T10:27:56.742683Z"
    }
   },
   "cell_type": "code",
   "source": "filtered_db = NITs_cutoff[(NITs_cutoff[\"Institute\"] == NIT_name) & (NITs_cutoff[\"Academic Program Name\"].isin(NIT_Branches)) & (NITs_cutoff[\"Gender\"] == gender) & (NITs_cutoff[\"Seat Type\"] == category) & (NITs_cutoff[\"Quota\"] == quota)]",
   "id": "a7c2e8bf1056b47d",
   "outputs": [],
   "execution_count": 14
  },
  {
   "metadata": {
    "ExecuteTime": {
     "end_time": "2025-02-04T10:27:59.768692Z",
     "start_time": "2025-02-04T10:27:59.740396Z"
    }
   },
   "cell_type": "code",
   "source": [
    "filtered_db.loc[:, \"2024 Min Score\"] = mvr_2024.predict_marks(filtered_db[\"Closing Rank\"])[0]\n",
    "filtered_db.loc[:, \"2024 Max Score\"] = mvr_2024.predict_marks(filtered_db[\"Closing Rank\"])[1]\n",
    "filtered_db.loc[:, \"2024 Average Score\"] = mvr_2024.predict_marks(filtered_db[\"Closing Rank\"])[2]\n",
    "filtered_db.loc[:, \"2024 Median Score\"] = mvr_2024.predict_marks(filtered_db[\"Closing Rank\"])[3]"
   ],
   "id": "5cb2a9f9fc7b8f43",
   "outputs": [
    {
     "name": "stderr",
     "output_type": "stream",
     "text": [
      "C:\\Users\\Gudic\\AppData\\Local\\Temp\\ipykernel_16936\\2021788623.py:1: SettingWithCopyWarning: \n",
      "A value is trying to be set on a copy of a slice from a DataFrame.\n",
      "Try using .loc[row_indexer,col_indexer] = value instead\n",
      "\n",
      "See the caveats in the documentation: https://pandas.pydata.org/pandas-docs/stable/user_guide/indexing.html#returning-a-view-versus-a-copy\n",
      "  filtered_db.loc[:, \"2024 Min Score\"] = mvr_2024.predict_marks(filtered_db[\"Closing Rank\"])[0]\n",
      "C:\\Users\\Gudic\\AppData\\Local\\Temp\\ipykernel_16936\\2021788623.py:2: SettingWithCopyWarning: \n",
      "A value is trying to be set on a copy of a slice from a DataFrame.\n",
      "Try using .loc[row_indexer,col_indexer] = value instead\n",
      "\n",
      "See the caveats in the documentation: https://pandas.pydata.org/pandas-docs/stable/user_guide/indexing.html#returning-a-view-versus-a-copy\n",
      "  filtered_db.loc[:, \"2024 Max Score\"] = mvr_2024.predict_marks(filtered_db[\"Closing Rank\"])[1]\n",
      "C:\\Users\\Gudic\\AppData\\Local\\Temp\\ipykernel_16936\\2021788623.py:3: SettingWithCopyWarning: \n",
      "A value is trying to be set on a copy of a slice from a DataFrame.\n",
      "Try using .loc[row_indexer,col_indexer] = value instead\n",
      "\n",
      "See the caveats in the documentation: https://pandas.pydata.org/pandas-docs/stable/user_guide/indexing.html#returning-a-view-versus-a-copy\n",
      "  filtered_db.loc[:, \"2024 Average Score\"] = mvr_2024.predict_marks(filtered_db[\"Closing Rank\"])[2]\n",
      "C:\\Users\\Gudic\\AppData\\Local\\Temp\\ipykernel_16936\\2021788623.py:4: SettingWithCopyWarning: \n",
      "A value is trying to be set on a copy of a slice from a DataFrame.\n",
      "Try using .loc[row_indexer,col_indexer] = value instead\n",
      "\n",
      "See the caveats in the documentation: https://pandas.pydata.org/pandas-docs/stable/user_guide/indexing.html#returning-a-view-versus-a-copy\n",
      "  filtered_db.loc[:, \"2024 Median Score\"] = mvr_2024.predict_marks(filtered_db[\"Closing Rank\"])[3]\n"
     ]
    }
   ],
   "execution_count": 15
  },
  {
   "metadata": {
    "ExecuteTime": {
     "end_time": "2025-02-04T10:28:02.646442Z",
     "start_time": "2025-02-04T10:28:02.619331Z"
    }
   },
   "cell_type": "code",
   "source": [
    "filtered_db.loc[:, \"2023 Min Score\"] = mvr_2023.predict_marks(filtered_db[\"Closing Rank\"])[0]\n",
    "filtered_db.loc[:, \"2023 Max Score\"] = mvr_2023.predict_marks(filtered_db[\"Closing Rank\"])[1]\n",
    "filtered_db.loc[:, \"2023 Average Score\"] = mvr_2023.predict_marks(filtered_db[\"Closing Rank\"])[2]\n",
    "filtered_db.loc[:, \"2023 Median Score\"] = mvr_2023.predict_marks(filtered_db[\"Closing Rank\"])[3]"
   ],
   "id": "964709bc320f44d3",
   "outputs": [
    {
     "name": "stderr",
     "output_type": "stream",
     "text": [
      "C:\\Users\\Gudic\\AppData\\Local\\Temp\\ipykernel_16936\\1273264880.py:1: SettingWithCopyWarning: \n",
      "A value is trying to be set on a copy of a slice from a DataFrame.\n",
      "Try using .loc[row_indexer,col_indexer] = value instead\n",
      "\n",
      "See the caveats in the documentation: https://pandas.pydata.org/pandas-docs/stable/user_guide/indexing.html#returning-a-view-versus-a-copy\n",
      "  filtered_db.loc[:, \"2023 Min Score\"] = mvr_2023.predict_marks(filtered_db[\"Closing Rank\"])[0]\n",
      "C:\\Users\\Gudic\\AppData\\Local\\Temp\\ipykernel_16936\\1273264880.py:2: SettingWithCopyWarning: \n",
      "A value is trying to be set on a copy of a slice from a DataFrame.\n",
      "Try using .loc[row_indexer,col_indexer] = value instead\n",
      "\n",
      "See the caveats in the documentation: https://pandas.pydata.org/pandas-docs/stable/user_guide/indexing.html#returning-a-view-versus-a-copy\n",
      "  filtered_db.loc[:, \"2023 Max Score\"] = mvr_2023.predict_marks(filtered_db[\"Closing Rank\"])[1]\n",
      "C:\\Users\\Gudic\\AppData\\Local\\Temp\\ipykernel_16936\\1273264880.py:3: SettingWithCopyWarning: \n",
      "A value is trying to be set on a copy of a slice from a DataFrame.\n",
      "Try using .loc[row_indexer,col_indexer] = value instead\n",
      "\n",
      "See the caveats in the documentation: https://pandas.pydata.org/pandas-docs/stable/user_guide/indexing.html#returning-a-view-versus-a-copy\n",
      "  filtered_db.loc[:, \"2023 Average Score\"] = mvr_2023.predict_marks(filtered_db[\"Closing Rank\"])[2]\n",
      "C:\\Users\\Gudic\\AppData\\Local\\Temp\\ipykernel_16936\\1273264880.py:4: SettingWithCopyWarning: \n",
      "A value is trying to be set on a copy of a slice from a DataFrame.\n",
      "Try using .loc[row_indexer,col_indexer] = value instead\n",
      "\n",
      "See the caveats in the documentation: https://pandas.pydata.org/pandas-docs/stable/user_guide/indexing.html#returning-a-view-versus-a-copy\n",
      "  filtered_db.loc[:, \"2023 Median Score\"] = mvr_2023.predict_marks(filtered_db[\"Closing Rank\"])[3]\n"
     ]
    }
   ],
   "execution_count": 16
  },
  {
   "metadata": {
    "ExecuteTime": {
     "end_time": "2025-02-04T10:29:40.684644Z",
     "start_time": "2025-02-04T10:29:40.649131Z"
    }
   },
   "cell_type": "code",
   "source": "filtered_db[[\"Academic Program Name\", \"2024 Average Score\", \"2023 Average Score\"]]",
   "id": "7cfa64038b202bf0",
   "outputs": [
    {
     "data": {
      "text/plain": [
       "                                  Academic Program Name  2024 Average Score  \\\n",
       "2152  Artificial Intelligence (4 Years, Bachelor of ...               236.0   \n",
       "2218  Computational and Data Science (4 Years, Bache...               231.0   \n",
       "2235  Computer Science and Engineering (4 Years, Bac...               243.0   \n",
       "2287  Electronics and Communication Engineering (4 Y...               227.0   \n",
       "2313  Information Technology (4 Years, Bachelor of T...               233.0   \n",
       "\n",
       "      2023 Average Score  \n",
       "2152               221.0  \n",
       "2218               216.0  \n",
       "2235               228.0  \n",
       "2287               211.0  \n",
       "2313               218.0  "
      ],
      "text/html": [
       "<div>\n",
       "<style scoped>\n",
       "    .dataframe tbody tr th:only-of-type {\n",
       "        vertical-align: middle;\n",
       "    }\n",
       "\n",
       "    .dataframe tbody tr th {\n",
       "        vertical-align: top;\n",
       "    }\n",
       "\n",
       "    .dataframe thead th {\n",
       "        text-align: right;\n",
       "    }\n",
       "</style>\n",
       "<table border=\"1\" class=\"dataframe\">\n",
       "  <thead>\n",
       "    <tr style=\"text-align: right;\">\n",
       "      <th></th>\n",
       "      <th>Academic Program Name</th>\n",
       "      <th>2024 Average Score</th>\n",
       "      <th>2023 Average Score</th>\n",
       "    </tr>\n",
       "  </thead>\n",
       "  <tbody>\n",
       "    <tr>\n",
       "      <th>2152</th>\n",
       "      <td>Artificial Intelligence (4 Years, Bachelor of ...</td>\n",
       "      <td>236.0</td>\n",
       "      <td>221.0</td>\n",
       "    </tr>\n",
       "    <tr>\n",
       "      <th>2218</th>\n",
       "      <td>Computational and Data Science (4 Years, Bache...</td>\n",
       "      <td>231.0</td>\n",
       "      <td>216.0</td>\n",
       "    </tr>\n",
       "    <tr>\n",
       "      <th>2235</th>\n",
       "      <td>Computer Science and Engineering (4 Years, Bac...</td>\n",
       "      <td>243.0</td>\n",
       "      <td>228.0</td>\n",
       "    </tr>\n",
       "    <tr>\n",
       "      <th>2287</th>\n",
       "      <td>Electronics and Communication Engineering (4 Y...</td>\n",
       "      <td>227.0</td>\n",
       "      <td>211.0</td>\n",
       "    </tr>\n",
       "    <tr>\n",
       "      <th>2313</th>\n",
       "      <td>Information Technology (4 Years, Bachelor of T...</td>\n",
       "      <td>233.0</td>\n",
       "      <td>218.0</td>\n",
       "    </tr>\n",
       "  </tbody>\n",
       "</table>\n",
       "</div>"
      ]
     },
     "execution_count": 18,
     "metadata": {},
     "output_type": "execute_result"
    }
   ],
   "execution_count": 18
  },
  {
   "metadata": {
    "ExecuteTime": {
     "end_time": "2025-02-04T10:32:28.293995Z",
     "start_time": "2025-02-04T10:32:28.282925Z"
    }
   },
   "cell_type": "code",
   "source": [
    "df = pd.DataFrame(filtered_db[\"2024 Median Score\"] - filtered_db[\"2023 Median Score\"])\n",
    "df.mean()"
   ],
   "id": "7f24a20e2bb7f845",
   "outputs": [
    {
     "data": {
      "text/plain": [
       "0    17.4\n",
       "dtype: float64"
      ]
     },
     "execution_count": 25,
     "metadata": {},
     "output_type": "execute_result"
    }
   ],
   "execution_count": 25
  },
  {
   "metadata": {
    "ExecuteTime": {
     "end_time": "2025-02-04T10:33:02.968368Z",
     "start_time": "2025-02-04T10:33:02.957492Z"
    }
   },
   "cell_type": "code",
   "source": "filtered_db[\"2024 Median Score\"]+17.4",
   "id": "f3a2912cd5104e6d",
   "outputs": [
    {
     "data": {
      "text/plain": [
       "2152    255.4\n",
       "2218    251.4\n",
       "2235    262.4\n",
       "2287    246.4\n",
       "2313    252.4\n",
       "Name: 2024 Median Score, dtype: float64"
      ]
     },
     "execution_count": 26,
     "metadata": {},
     "output_type": "execute_result"
    }
   ],
   "execution_count": 26
  },
  {
   "metadata": {
    "ExecuteTime": {
     "end_time": "2025-02-04T13:25:10.845865Z",
     "start_time": "2025-02-04T13:25:10.833463Z"
    }
   },
   "cell_type": "code",
   "source": "\"/\".join(set(NITs_cutoff[\"Seat Type\"]))",
   "id": "ea9a3b71b49f72ca",
   "outputs": [
    {
     "data": {
      "text/plain": [
       "'OPEN (PwD)/OBC-NCL (PwD)/OPEN/SC/SC (PwD)/ST/ST (PwD)/EWS/EWS (PwD)/OBC-NCL'"
      ]
     },
     "execution_count": 27,
     "metadata": {},
     "output_type": "execute_result"
    }
   ],
   "execution_count": 27
  }
 ],
 "metadata": {
  "kernelspec": {
   "display_name": "Python 3",
   "language": "python",
   "name": "python3"
  },
  "language_info": {
   "codemirror_mode": {
    "name": "ipython",
    "version": 2
   },
   "file_extension": ".py",
   "mimetype": "text/x-python",
   "name": "python",
   "nbconvert_exporter": "python",
   "pygments_lexer": "ipython2",
   "version": "2.7.6"
  }
 },
 "nbformat": 4,
 "nbformat_minor": 5
}
